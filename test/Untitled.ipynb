{
 "cells": [
  {
   "cell_type": "code",
   "execution_count": 1,
   "metadata": {},
   "outputs": [
    {
     "data": {
      "text/plain": [
       "'/Users/jackcook/Documents/Training/SoftwareCarpentry/testing/grid/test'"
      ]
     },
     "execution_count": 1,
     "metadata": {},
     "output_type": "execute_result"
    }
   ],
   "source": [
    "pwd"
   ]
  },
  {
   "cell_type": "code",
   "execution_count": 5,
   "metadata": {},
   "outputs": [
    {
     "name": "stdout",
     "output_type": "stream",
     "text": [
      "\u001b[1m============================= test session starts ==============================\u001b[0m\r\n",
      "platform darwin -- Python 3.6.8, pytest-6.1.2, py-1.9.0, pluggy-0.13.1\r\n",
      "rootdir: /Users/jackcook/Documents/Training/SoftwareCarpentry/testing/grid/test\r\n",
      "\u001b[1mcollecting ... \u001b[0m\u001b[1m\r",
      "collected 1 item                                                               \u001b[0m\r\n",
      "\r\n",
      "test_cell.py \u001b[32m.\u001b[0m\u001b[32m                                                           [100%]\u001b[0m\r\n",
      "\r\n",
      "\u001b[32m============================== \u001b[32m\u001b[1m1 passed\u001b[0m\u001b[32m in 0.01s\u001b[0m\u001b[32m ===============================\u001b[0m\r\n"
     ]
    }
   ],
   "source": [
    "!pytest test_cell.py::test_left_edge"
   ]
  },
  {
   "cell_type": "code",
   "execution_count": 16,
   "metadata": {},
   "outputs": [
    {
     "name": "stdout",
     "output_type": "stream",
     "text": [
      "\u001b[1m============================= test session starts ==============================\u001b[0m\n",
      "platform darwin -- Python 3.6.8, pytest-6.1.2, py-1.9.0, pluggy-0.13.1\n",
      "rootdir: /Users/jackcook/Documents/Training/SoftwareCarpentry/testing/grid/test\n",
      "collected 9 items                                                              \u001b[0m\n",
      "\n",
      "test_cell.py \u001b[32m.\u001b[0m\u001b[32m.\u001b[0m\u001b[32m.\u001b[0m\u001b[32m.\u001b[0m\u001b[32m.\u001b[0m\u001b[32m.\u001b[0m\u001b[32m.\u001b[0m\u001b[32m.\u001b[0m\u001b[31mF\u001b[0m\u001b[31m                                                   [100%]\u001b[0m\n",
      "\n",
      "=================================== FAILURES ===================================\n",
      "\u001b[31m\u001b[1m____________________________ test_top_right_corner _____________________________\u001b[0m\n",
      "\n",
      "    \u001b[34;01mdef\u001b[39;49;00m \u001b[32;01mtest_top_right_corner\u001b[39;49;00m():\n",
      "        \u001b[33m\"\"\" Test that a cell on the top right corner of the grid is correct. \"\"\"\u001b[39;49;00m\n",
      "    \n",
      "        \u001b[30;01m# Instantiate a cell at the top right corner of a 4x4 grid.\u001b[39;49;00m\n",
      "        c = Cell(\u001b[34;01m3\u001b[39;49;00m, \u001b[34;01m3\u001b[39;49;00m, \u001b[34;01m4\u001b[39;49;00m, \u001b[34;01m4\u001b[39;49;00m)\n",
      "    \n",
      "        \u001b[30;01m# Make sure that the cell has 2 neighbours.\u001b[39;49;00m\n",
      "        \u001b[34;01massert\u001b[39;49;00m c.neighbours() == \u001b[34;01m3\u001b[39;49;00m\n",
      "    \n",
      "        \u001b[30;01m# Check the coordinates of the neighbours.\u001b[39;49;00m\n",
      "        \u001b[34;01massert\u001b[39;49;00m c.left()  == (\u001b[34;01m2\u001b[39;49;00m, \u001b[34;01m3\u001b[39;49;00m)\n",
      ">       \u001b[34;01massert\u001b[39;49;00m c.right() == (\u001b[34;01m3\u001b[39;49;00m, \u001b[34;01m4\u001b[39;49;00m)\n",
      "\u001b[1m\u001b[31mE       assert None == (3, 4)\u001b[0m\n",
      "\u001b[1m\u001b[31mE        +  where None = <bound method Cell.right of <grid.grid.Cell object at 0x10cc8ada0>>()\u001b[0m\n",
      "\u001b[1m\u001b[31mE        +    where <bound method Cell.right of <grid.grid.Cell object at 0x10cc8ada0>> = <grid.grid.Cell object at 0x10cc8ada0>.right\u001b[0m\n",
      "\n",
      "\u001b[1m\u001b[31mtest_cell.py\u001b[0m:134: AssertionError\n",
      "=========================== short test summary info ============================\n",
      "FAILED test_cell.py::test_top_right_corner - assert None == (3, 4)\n",
      "\u001b[31m========================= \u001b[31m\u001b[1m1 failed\u001b[0m, \u001b[32m8 passed\u001b[0m\u001b[31m in 0.10s\u001b[0m\u001b[31m ==========================\u001b[0m\n"
     ]
    }
   ],
   "source": [
    "!pytest test_cell.py"
   ]
  },
  {
   "cell_type": "code",
   "execution_count": null,
   "metadata": {},
   "outputs": [],
   "source": []
  },
  {
   "cell_type": "code",
   "execution_count": null,
   "metadata": {},
   "outputs": [],
   "source": []
  },
  {
   "cell_type": "code",
   "execution_count": null,
   "metadata": {},
   "outputs": [],
   "source": []
  },
  {
   "cell_type": "code",
   "execution_count": null,
   "metadata": {},
   "outputs": [],
   "source": []
  }
 ],
 "metadata": {
  "kernelspec": {
   "display_name": "Python [conda env:jupyter] *",
   "language": "python",
   "name": "conda-env-jupyter-py"
  },
  "language_info": {
   "codemirror_mode": {
    "name": "ipython",
    "version": 3
   },
   "file_extension": ".py",
   "mimetype": "text/x-python",
   "name": "python",
   "nbconvert_exporter": "python",
   "pygments_lexer": "ipython3",
   "version": "3.8.1"
  }
 },
 "nbformat": 4,
 "nbformat_minor": 4
}
